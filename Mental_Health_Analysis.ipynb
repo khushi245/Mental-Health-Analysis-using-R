{
 "cells": [
  {
   "cell_type": "code",
   "execution_count": 1,
   "metadata": {},
   "outputs": [],
   "source": [
    "options(warn=-1)"
   ]
  },
  {
   "cell_type": "code",
   "execution_count": 2,
   "metadata": {
    "collapsed": true
   },
   "outputs": [
    {
     "name": "stderr",
     "output_type": "stream",
     "text": [
      "\n",
      "Attaching package: 'lubridate'\n",
      "\n",
      "The following objects are masked from 'package:base':\n",
      "\n",
      "    date, intersect, setdiff, union\n",
      "\n",
      "\n",
      "Attaching package: 'dplyr'\n",
      "\n",
      "The following objects are masked from 'package:stats':\n",
      "\n",
      "    filter, lag\n",
      "\n",
      "The following objects are masked from 'package:base':\n",
      "\n",
      "    intersect, setdiff, setequal, union\n",
      "\n"
     ]
    }
   ],
   "source": [
    "library(ggplot2)\n",
    "library(ggthemes)\n",
    "library(lubridate)\n",
    "library(dplyr)\n",
    "library(tidyr)\n",
    "library(DT)\n",
    "library(scales)"
   ]
  },
  {
   "cell_type": "code",
   "execution_count": 3,
   "metadata": {},
   "outputs": [],
   "source": [
    "covid = read.csv('Book1.csv')"
   ]
  },
  {
   "cell_type": "code",
   "execution_count": 4,
   "metadata": {},
   "outputs": [
    {
     "data": {
      "text/html": [
       "<ol class=list-inline>\n",
       "\t<li>348</li>\n",
       "\t<li>44</li>\n",
       "</ol>\n"
      ],
      "text/latex": [
       "\\begin{enumerate*}\n",
       "\\item 348\n",
       "\\item 44\n",
       "\\end{enumerate*}\n"
      ],
      "text/markdown": [
       "1. 348\n",
       "2. 44\n",
       "\n",
       "\n"
      ],
      "text/plain": [
       "[1] 348  44"
      ]
     },
     "metadata": {},
     "output_type": "display_data"
    }
   ],
   "source": [
    "dim(covid)"
   ]
  },
  {
   "cell_type": "code",
   "execution_count": 6,
   "metadata": {},
   "outputs": [
    {
     "data": {
      "text/html": [
       "<table>\n",
       "<thead><tr><th scope=col>Gender</th><th scope=col>Age</th><th scope=col>Income</th><th scope=col>Educational_Level</th><th scope=col>Working_condition</th><th scope=col>Nationality</th><th scope=col>Country</th><th scope=col>Home_sitatuion</th><th scope=col>Number_of_persons_living_with</th><th scope=col>Child_dependent_people</th><th scope=col>...</th><th scope=col>Fortitude_Strength_PRE</th><th scope=col>Fortitude._Strength_POST</th><th scope=col>Goodness_Strength_PRE</th><th scope=col>Goodness_Strength_POST</th><th scope=col>Intellectual_Strength_PRE</th><th scope=col>Intellectual_Strength_POST</th><th scope=col>Restraint_Strength_PRE</th><th scope=col>Restraint_Strength_POST</th><th scope=col>Interpersonal_Strength_PRE</th><th scope=col>Interpersonal_Strength_POST</th></tr></thead>\n",
       "<tbody>\n",
       "\t<tr><td>Female                                        </td><td>42                                            </td><td> 8                                            </td><td>Master's Studies                              </td><td>Working                                       </td><td> SPANISH                                      </td><td> Spain                                        </td><td> I live with my partner                       </td><td>2                                             </td><td>No                                            </td><td>...                                           </td><td>5.500000                                      </td><td>7.000000                                      </td><td>6.8                                           </td><td>6.4                                           </td><td>5.333333                                      </td><td>7.333333                                      </td><td>7.25                                          </td><td>6.50                                          </td><td>6.333333                                      </td><td>7.000000                                      </td></tr>\n",
       "\t<tr><td>Female                                        </td><td>35                                            </td><td> 6                                            </td><td>Superior (Diploma / Bachelor / Degree)        </td><td>Working                                       </td><td> SPANISH                                      </td><td> Spain                                        </td><td> I live with my parents / father / mother     </td><td>3                                             </td><td>No                                            </td><td>...                                           </td><td>7.500000                                      </td><td>3.500000                                      </td><td>8.6                                           </td><td>5.0                                           </td><td>6.000000                                      </td><td>5.333333                                      </td><td>9.00                                          </td><td>3.75                                          </td><td>9.000000                                      </td><td>4.666667                                      </td></tr>\n",
       "\t<tr><td>Female                                        </td><td>28                                            </td><td> 8                                            </td><td>Master's Studies                              </td><td>Working                                       </td><td> SPANISH                                      </td><td> Spain                                        </td><td> I share flat                                 </td><td>7                                             </td><td>No                                            </td><td>...                                           </td><td>6.833333                                      </td><td>5.500000                                      </td><td>7.8                                           </td><td>7.6                                           </td><td>7.833333                                      </td><td>7.833333                                      </td><td>5.50                                          </td><td>6.25                                          </td><td>8.000000                                      </td><td>7.666667                                      </td></tr>\n",
       "\t<tr><td>Female                                        </td><td>49                                            </td><td>12                                            </td><td>Master's Studies                              </td><td>Working                                       </td><td> SPANISH                                      </td><td> Spain                                        </td><td> I live with my partner and children (son / a)</td><td>7                                             </td><td>Yes                                           </td><td>...                                           </td><td>8.333333                                      </td><td>1.000000                                      </td><td>8.4                                           </td><td>2.2                                           </td><td>7.166667                                      </td><td>1.333333                                      </td><td>7.25                                          </td><td>1.50                                          </td><td>9.000000                                      </td><td>2.333333                                      </td></tr>\n",
       "\t<tr><td>Female                                        </td><td>52                                            </td><td> 1                                            </td><td>Superior (Diploma / Bachelor / Degree)        </td><td>Working                                       </td><td> SPANISH                                      </td><td> Spain                                        </td><td> I live with my partner and children (son / a)</td><td>4                                             </td><td>Yes                                           </td><td>...                                           </td><td>6.666667                                      </td><td>5.666667                                      </td><td>8.4                                           </td><td>5.8                                           </td><td>7.000000                                      </td><td>5.666667                                      </td><td>6.25                                          </td><td>6.00                                          </td><td>7.333333                                      </td><td>6.666667                                      </td></tr>\n",
       "\t<tr><td>Female                                        </td><td>36                                            </td><td> 6                                            </td><td>Superior (Diploma / Bachelor / Degree)        </td><td>Another situation                             </td><td> SPANISH                                      </td><td> Spain                                        </td><td> I live with my partner                       </td><td>2                                             </td><td>No                                            </td><td>...                                           </td><td>6.833333                                      </td><td>8.166667                                      </td><td>7.8                                           </td><td>8.4                                           </td><td>6.333333                                      </td><td>6.833333                                      </td><td>7.00                                          </td><td>6.50                                          </td><td>7.666667                                      </td><td>7.000000                                      </td></tr>\n",
       "</tbody>\n",
       "</table>\n"
      ],
      "text/latex": [
       "\\begin{tabular}{r|llllllllllllllllllllllllllllllllllllllllllll}\n",
       " Gender & Age & Income & Educational\\_Level & Working\\_condition & Nationality & Country & Home\\_sitatuion & Number\\_of\\_persons\\_living\\_with & Child\\_dependent\\_people & ... & Fortitude\\_Strength\\_PRE & Fortitude.\\_Strength\\_POST & Goodness\\_Strength\\_PRE & Goodness\\_Strength\\_POST & Intellectual\\_Strength\\_PRE & Intellectual\\_Strength\\_POST & Restraint\\_Strength\\_PRE & Restraint\\_Strength\\_POST & Interpersonal\\_Strength\\_PRE & Interpersonal\\_Strength\\_POST\\\\\n",
       "\\hline\n",
       "\t Female                                         & 42                                             &  8                                             & Master's Studies                               & Working                                        &  SPANISH                                       &  Spain                                         &  I live with my partner                        & 2                                              & No                                             & ...                                            & 5.500000                                       & 7.000000                                       & 6.8                                            & 6.4                                            & 5.333333                                       & 7.333333                                       & 7.25                                           & 6.50                                           & 6.333333                                       & 7.000000                                      \\\\\n",
       "\t Female                                         & 35                                             &  6                                             & Superior (Diploma / Bachelor / Degree)         & Working                                        &  SPANISH                                       &  Spain                                         &  I live with my parents / father / mother      & 3                                              & No                                             & ...                                            & 7.500000                                       & 3.500000                                       & 8.6                                            & 5.0                                            & 6.000000                                       & 5.333333                                       & 9.00                                           & 3.75                                           & 9.000000                                       & 4.666667                                      \\\\\n",
       "\t Female                                         & 28                                             &  8                                             & Master's Studies                               & Working                                        &  SPANISH                                       &  Spain                                         &  I share flat                                  & 7                                              & No                                             & ...                                            & 6.833333                                       & 5.500000                                       & 7.8                                            & 7.6                                            & 7.833333                                       & 7.833333                                       & 5.50                                           & 6.25                                           & 8.000000                                       & 7.666667                                      \\\\\n",
       "\t Female                                         & 49                                             & 12                                             & Master's Studies                               & Working                                        &  SPANISH                                       &  Spain                                         &  I live with my partner and children (son / a) & 7                                              & Yes                                            & ...                                            & 8.333333                                       & 1.000000                                       & 8.4                                            & 2.2                                            & 7.166667                                       & 1.333333                                       & 7.25                                           & 1.50                                           & 9.000000                                       & 2.333333                                      \\\\\n",
       "\t Female                                         & 52                                             &  1                                             & Superior (Diploma / Bachelor / Degree)         & Working                                        &  SPANISH                                       &  Spain                                         &  I live with my partner and children (son / a) & 4                                              & Yes                                            & ...                                            & 6.666667                                       & 5.666667                                       & 8.4                                            & 5.8                                            & 7.000000                                       & 5.666667                                       & 6.25                                           & 6.00                                           & 7.333333                                       & 6.666667                                      \\\\\n",
       "\t Female                                         & 36                                             &  6                                             & Superior (Diploma / Bachelor / Degree)         & Another situation                              &  SPANISH                                       &  Spain                                         &  I live with my partner                        & 2                                              & No                                             & ...                                            & 6.833333                                       & 8.166667                                       & 7.8                                            & 8.4                                            & 6.333333                                       & 6.833333                                       & 7.00                                           & 6.50                                           & 7.666667                                       & 7.000000                                      \\\\\n",
       "\\end{tabular}\n"
      ],
      "text/markdown": [
       "\n",
       "| Gender | Age | Income | Educational_Level | Working_condition | Nationality | Country | Home_sitatuion | Number_of_persons_living_with | Child_dependent_people | ... | Fortitude_Strength_PRE | Fortitude._Strength_POST | Goodness_Strength_PRE | Goodness_Strength_POST | Intellectual_Strength_PRE | Intellectual_Strength_POST | Restraint_Strength_PRE | Restraint_Strength_POST | Interpersonal_Strength_PRE | Interpersonal_Strength_POST |\n",
       "|---|---|---|---|---|---|---|---|---|---|---|---|---|---|---|---|---|---|---|---|---|\n",
       "| Female                                         | 42                                             |  8                                             | Master's Studies                               | Working                                        |  SPANISH                                       |  Spain                                         |  I live with my partner                        | 2                                              | No                                             | ...                                            | 5.500000                                       | 7.000000                                       | 6.8                                            | 6.4                                            | 5.333333                                       | 7.333333                                       | 7.25                                           | 6.50                                           | 6.333333                                       | 7.000000                                       |\n",
       "| Female                                         | 35                                             |  6                                             | Superior (Diploma / Bachelor / Degree)         | Working                                        |  SPANISH                                       |  Spain                                         |  I live with my parents / father / mother      | 3                                              | No                                             | ...                                            | 7.500000                                       | 3.500000                                       | 8.6                                            | 5.0                                            | 6.000000                                       | 5.333333                                       | 9.00                                           | 3.75                                           | 9.000000                                       | 4.666667                                       |\n",
       "| Female                                         | 28                                             |  8                                             | Master's Studies                               | Working                                        |  SPANISH                                       |  Spain                                         |  I share flat                                  | 7                                              | No                                             | ...                                            | 6.833333                                       | 5.500000                                       | 7.8                                            | 7.6                                            | 7.833333                                       | 7.833333                                       | 5.50                                           | 6.25                                           | 8.000000                                       | 7.666667                                       |\n",
       "| Female                                         | 49                                             | 12                                             | Master's Studies                               | Working                                        |  SPANISH                                       |  Spain                                         |  I live with my partner and children (son / a) | 7                                              | Yes                                            | ...                                            | 8.333333                                       | 1.000000                                       | 8.4                                            | 2.2                                            | 7.166667                                       | 1.333333                                       | 7.25                                           | 1.50                                           | 9.000000                                       | 2.333333                                       |\n",
       "| Female                                         | 52                                             |  1                                             | Superior (Diploma / Bachelor / Degree)         | Working                                        |  SPANISH                                       |  Spain                                         |  I live with my partner and children (son / a) | 4                                              | Yes                                            | ...                                            | 6.666667                                       | 5.666667                                       | 8.4                                            | 5.8                                            | 7.000000                                       | 5.666667                                       | 6.25                                           | 6.00                                           | 7.333333                                       | 6.666667                                       |\n",
       "| Female                                         | 36                                             |  6                                             | Superior (Diploma / Bachelor / Degree)         | Another situation                              |  SPANISH                                       |  Spain                                         |  I live with my partner                        | 2                                              | No                                             | ...                                            | 6.833333                                       | 8.166667                                       | 7.8                                            | 8.4                                            | 6.333333                                       | 6.833333                                       | 7.00                                           | 6.50                                           | 7.666667                                       | 7.000000                                       |\n",
       "\n"
      ],
      "text/plain": [
       "  Gender Age Income Educational_Level                      Working_condition\n",
       "1 Female 42   8     Master's Studies                       Working          \n",
       "2 Female 35   6     Superior (Diploma / Bachelor / Degree) Working          \n",
       "3 Female 28   8     Master's Studies                       Working          \n",
       "4 Female 49  12     Master's Studies                       Working          \n",
       "5 Female 52   1     Superior (Diploma / Bachelor / Degree) Working          \n",
       "6 Female 36   6     Superior (Diploma / Bachelor / Degree) Another situation\n",
       "  Nationality Country Home_sitatuion                                \n",
       "1  SPANISH     Spain   I live with my partner                       \n",
       "2  SPANISH     Spain   I live with my parents / father / mother     \n",
       "3  SPANISH     Spain   I share flat                                 \n",
       "4  SPANISH     Spain   I live with my partner and children (son / a)\n",
       "5  SPANISH     Spain   I live with my partner and children (son / a)\n",
       "6  SPANISH     Spain   I live with my partner                       \n",
       "  Number_of_persons_living_with Child_dependent_people ...\n",
       "1 2                             No                     ...\n",
       "2 3                             No                     ...\n",
       "3 7                             No                     ...\n",
       "4 7                             Yes                    ...\n",
       "5 4                             Yes                    ...\n",
       "6 2                             No                     ...\n",
       "  Fortitude_Strength_PRE Fortitude._Strength_POST Goodness_Strength_PRE\n",
       "1 5.500000               7.000000                 6.8                  \n",
       "2 7.500000               3.500000                 8.6                  \n",
       "3 6.833333               5.500000                 7.8                  \n",
       "4 8.333333               1.000000                 8.4                  \n",
       "5 6.666667               5.666667                 8.4                  \n",
       "6 6.833333               8.166667                 7.8                  \n",
       "  Goodness_Strength_POST Intellectual_Strength_PRE Intellectual_Strength_POST\n",
       "1 6.4                    5.333333                  7.333333                  \n",
       "2 5.0                    6.000000                  5.333333                  \n",
       "3 7.6                    7.833333                  7.833333                  \n",
       "4 2.2                    7.166667                  1.333333                  \n",
       "5 5.8                    7.000000                  5.666667                  \n",
       "6 8.4                    6.333333                  6.833333                  \n",
       "  Restraint_Strength_PRE Restraint_Strength_POST Interpersonal_Strength_PRE\n",
       "1 7.25                   6.50                    6.333333                  \n",
       "2 9.00                   3.75                    9.000000                  \n",
       "3 5.50                   6.25                    8.000000                  \n",
       "4 7.25                   1.50                    9.000000                  \n",
       "5 6.25                   6.00                    7.333333                  \n",
       "6 7.00                   6.50                    7.666667                  \n",
       "  Interpersonal_Strength_POST\n",
       "1 7.000000                   \n",
       "2 4.666667                   \n",
       "3 7.666667                   \n",
       "4 2.333333                   \n",
       "5 6.666667                   \n",
       "6 7.000000                   "
      ]
     },
     "metadata": {},
     "output_type": "display_data"
    }
   ],
   "source": [
    "head(covid)"
   ]
  },
  {
   "cell_type": "code",
   "execution_count": 7,
   "metadata": {
    "scrolled": true
   },
   "outputs": [
    {
     "data": {
      "text/html": [
       "<ol class=list-inline>\n",
       "\t<li>'Gender'</li>\n",
       "\t<li>'Age'</li>\n",
       "\t<li>'Income'</li>\n",
       "\t<li>'Educational_Level'</li>\n",
       "\t<li>'Working_condition'</li>\n",
       "\t<li>'Nationality'</li>\n",
       "\t<li>'Country'</li>\n",
       "\t<li>'Home_sitatuion'</li>\n",
       "\t<li>'Number_of_persons_living_with'</li>\n",
       "\t<li>'Child_dependent_people'</li>\n",
       "\t<li>'Working_condition.1'</li>\n",
       "\t<li>'Days_leaving_home_per_week'</li>\n",
       "\t<li>'Reasons_to_go_out'</li>\n",
       "\t<li>'Time_out_each_week'</li>\n",
       "\t<li>'COVID19_Positive'</li>\n",
       "\t<li>'COVID19_Positive_Home'</li>\n",
       "\t<li>'COVID19_Positive_people_nearby'</li>\n",
       "\t<li>'GHQ_TOTAL_PRE'</li>\n",
       "\t<li>'SWL_TOTAL_PRE'</li>\n",
       "\t<li>'PMS_TOTAL_PRE'</li>\n",
       "\t<li>'POSITIVE_AFFECT_PRE'</li>\n",
       "\t<li>'NEGATIVE_AFFECT_PRE'</li>\n",
       "\t<li>'Woking_Condition_Post'</li>\n",
       "\t<li>'Days_leaving_home_per_week_POST'</li>\n",
       "\t<li>'Time_out_each_week_POST'</li>\n",
       "\t<li>'COVID19_Positive_POST'</li>\n",
       "\t<li>'COVID19_Positive_home_POST'</li>\n",
       "\t<li>'COVID_19_Positive_people.nearby_POST'</li>\n",
       "\t<li>'GHQ_TOTAL_post'</li>\n",
       "\t<li>'SWL_TOTAL_post'</li>\n",
       "\t<li>'PMS_TOTAL_post'</li>\n",
       "\t<li>'Positive_affect_POST'</li>\n",
       "\t<li>'Negative_affect_POST'</li>\n",
       "\t<li>'POST_PGI._TOTAL'</li>\n",
       "\t<li>'Fortitude_Strength_PRE'</li>\n",
       "\t<li>'Fortitude._Strength_POST'</li>\n",
       "\t<li>'Goodness_Strength_PRE'</li>\n",
       "\t<li>'Goodness_Strength_POST'</li>\n",
       "\t<li>'Intellectual_Strength_PRE'</li>\n",
       "\t<li>'Intellectual_Strength_POST'</li>\n",
       "\t<li>'Restraint_Strength_PRE'</li>\n",
       "\t<li>'Restraint_Strength_POST'</li>\n",
       "\t<li>'Interpersonal_Strength_PRE'</li>\n",
       "\t<li>'Interpersonal_Strength_POST'</li>\n",
       "</ol>\n"
      ],
      "text/latex": [
       "\\begin{enumerate*}\n",
       "\\item 'Gender'\n",
       "\\item 'Age'\n",
       "\\item 'Income'\n",
       "\\item 'Educational\\_Level'\n",
       "\\item 'Working\\_condition'\n",
       "\\item 'Nationality'\n",
       "\\item 'Country'\n",
       "\\item 'Home\\_sitatuion'\n",
       "\\item 'Number\\_of\\_persons\\_living\\_with'\n",
       "\\item 'Child\\_dependent\\_people'\n",
       "\\item 'Working\\_condition.1'\n",
       "\\item 'Days\\_leaving\\_home\\_per\\_week'\n",
       "\\item 'Reasons\\_to\\_go\\_out'\n",
       "\\item 'Time\\_out\\_each\\_week'\n",
       "\\item 'COVID19\\_Positive'\n",
       "\\item 'COVID19\\_Positive\\_Home'\n",
       "\\item 'COVID19\\_Positive\\_people\\_nearby'\n",
       "\\item 'GHQ\\_TOTAL\\_PRE'\n",
       "\\item 'SWL\\_TOTAL\\_PRE'\n",
       "\\item 'PMS\\_TOTAL\\_PRE'\n",
       "\\item 'POSITIVE\\_AFFECT\\_PRE'\n",
       "\\item 'NEGATIVE\\_AFFECT\\_PRE'\n",
       "\\item 'Woking\\_Condition\\_Post'\n",
       "\\item 'Days\\_leaving\\_home\\_per\\_week\\_POST'\n",
       "\\item 'Time\\_out\\_each\\_week\\_POST'\n",
       "\\item 'COVID19\\_Positive\\_POST'\n",
       "\\item 'COVID19\\_Positive\\_home\\_POST'\n",
       "\\item 'COVID\\_19\\_Positive\\_people.nearby\\_POST'\n",
       "\\item 'GHQ\\_TOTAL\\_post'\n",
       "\\item 'SWL\\_TOTAL\\_post'\n",
       "\\item 'PMS\\_TOTAL\\_post'\n",
       "\\item 'Positive\\_affect\\_POST'\n",
       "\\item 'Negative\\_affect\\_POST'\n",
       "\\item 'POST\\_PGI.\\_TOTAL'\n",
       "\\item 'Fortitude\\_Strength\\_PRE'\n",
       "\\item 'Fortitude.\\_Strength\\_POST'\n",
       "\\item 'Goodness\\_Strength\\_PRE'\n",
       "\\item 'Goodness\\_Strength\\_POST'\n",
       "\\item 'Intellectual\\_Strength\\_PRE'\n",
       "\\item 'Intellectual\\_Strength\\_POST'\n",
       "\\item 'Restraint\\_Strength\\_PRE'\n",
       "\\item 'Restraint\\_Strength\\_POST'\n",
       "\\item 'Interpersonal\\_Strength\\_PRE'\n",
       "\\item 'Interpersonal\\_Strength\\_POST'\n",
       "\\end{enumerate*}\n"
      ],
      "text/markdown": [
       "1. 'Gender'\n",
       "2. 'Age'\n",
       "3. 'Income'\n",
       "4. 'Educational_Level'\n",
       "5. 'Working_condition'\n",
       "6. 'Nationality'\n",
       "7. 'Country'\n",
       "8. 'Home_sitatuion'\n",
       "9. 'Number_of_persons_living_with'\n",
       "10. 'Child_dependent_people'\n",
       "11. 'Working_condition.1'\n",
       "12. 'Days_leaving_home_per_week'\n",
       "13. 'Reasons_to_go_out'\n",
       "14. 'Time_out_each_week'\n",
       "15. 'COVID19_Positive'\n",
       "16. 'COVID19_Positive_Home'\n",
       "17. 'COVID19_Positive_people_nearby'\n",
       "18. 'GHQ_TOTAL_PRE'\n",
       "19. 'SWL_TOTAL_PRE'\n",
       "20. 'PMS_TOTAL_PRE'\n",
       "21. 'POSITIVE_AFFECT_PRE'\n",
       "22. 'NEGATIVE_AFFECT_PRE'\n",
       "23. 'Woking_Condition_Post'\n",
       "24. 'Days_leaving_home_per_week_POST'\n",
       "25. 'Time_out_each_week_POST'\n",
       "26. 'COVID19_Positive_POST'\n",
       "27. 'COVID19_Positive_home_POST'\n",
       "28. 'COVID_19_Positive_people.nearby_POST'\n",
       "29. 'GHQ_TOTAL_post'\n",
       "30. 'SWL_TOTAL_post'\n",
       "31. 'PMS_TOTAL_post'\n",
       "32. 'Positive_affect_POST'\n",
       "33. 'Negative_affect_POST'\n",
       "34. 'POST_PGI._TOTAL'\n",
       "35. 'Fortitude_Strength_PRE'\n",
       "36. 'Fortitude._Strength_POST'\n",
       "37. 'Goodness_Strength_PRE'\n",
       "38. 'Goodness_Strength_POST'\n",
       "39. 'Intellectual_Strength_PRE'\n",
       "40. 'Intellectual_Strength_POST'\n",
       "41. 'Restraint_Strength_PRE'\n",
       "42. 'Restraint_Strength_POST'\n",
       "43. 'Interpersonal_Strength_PRE'\n",
       "44. 'Interpersonal_Strength_POST'\n",
       "\n",
       "\n"
      ],
      "text/plain": [
       " [1] \"Gender\"                              \n",
       " [2] \"Age\"                                 \n",
       " [3] \"Income\"                              \n",
       " [4] \"Educational_Level\"                   \n",
       " [5] \"Working_condition\"                   \n",
       " [6] \"Nationality\"                         \n",
       " [7] \"Country\"                             \n",
       " [8] \"Home_sitatuion\"                      \n",
       " [9] \"Number_of_persons_living_with\"       \n",
       "[10] \"Child_dependent_people\"              \n",
       "[11] \"Working_condition.1\"                 \n",
       "[12] \"Days_leaving_home_per_week\"          \n",
       "[13] \"Reasons_to_go_out\"                   \n",
       "[14] \"Time_out_each_week\"                  \n",
       "[15] \"COVID19_Positive\"                    \n",
       "[16] \"COVID19_Positive_Home\"               \n",
       "[17] \"COVID19_Positive_people_nearby\"      \n",
       "[18] \"GHQ_TOTAL_PRE\"                       \n",
       "[19] \"SWL_TOTAL_PRE\"                       \n",
       "[20] \"PMS_TOTAL_PRE\"                       \n",
       "[21] \"POSITIVE_AFFECT_PRE\"                 \n",
       "[22] \"NEGATIVE_AFFECT_PRE\"                 \n",
       "[23] \"Woking_Condition_Post\"               \n",
       "[24] \"Days_leaving_home_per_week_POST\"     \n",
       "[25] \"Time_out_each_week_POST\"             \n",
       "[26] \"COVID19_Positive_POST\"               \n",
       "[27] \"COVID19_Positive_home_POST\"          \n",
       "[28] \"COVID_19_Positive_people.nearby_POST\"\n",
       "[29] \"GHQ_TOTAL_post\"                      \n",
       "[30] \"SWL_TOTAL_post\"                      \n",
       "[31] \"PMS_TOTAL_post\"                      \n",
       "[32] \"Positive_affect_POST\"                \n",
       "[33] \"Negative_affect_POST\"                \n",
       "[34] \"POST_PGI._TOTAL\"                     \n",
       "[35] \"Fortitude_Strength_PRE\"              \n",
       "[36] \"Fortitude._Strength_POST\"            \n",
       "[37] \"Goodness_Strength_PRE\"               \n",
       "[38] \"Goodness_Strength_POST\"              \n",
       "[39] \"Intellectual_Strength_PRE\"           \n",
       "[40] \"Intellectual_Strength_POST\"          \n",
       "[41] \"Restraint_Strength_PRE\"              \n",
       "[42] \"Restraint_Strength_POST\"             \n",
       "[43] \"Interpersonal_Strength_PRE\"          \n",
       "[44] \"Interpersonal_Strength_POST\"         "
      ]
     },
     "metadata": {},
     "output_type": "display_data"
    }
   ],
   "source": [
    "colnames(covid)"
   ]
  },
  {
   "cell_type": "code",
   "execution_count": 8,
   "metadata": {},
   "outputs": [],
   "source": [
    "attach(covid)"
   ]
  },
  {
   "cell_type": "code",
   "execution_count": 9,
   "metadata": {
    "scrolled": true
   },
   "outputs": [
    {
     "name": "stdout",
     "output_type": "stream",
     "text": [
      "'data.frame':\t348 obs. of  44 variables:\n",
      " $ Gender                              : Factor w/ 2 levels \"Female\",\"Male\": 1 1 1 1 1 1 1 1 1 1 ...\n",
      " $ Age                                 : int  42 35 28 49 52 36 24 48 30 44 ...\n",
      " $ Income                              : int  8 6 8 12 1 6 2 10 8 8 ...\n",
      " $ Educational_Level                   : Factor w/ 5 levels \"Doctorate\",\"Master's Studies\",..: 2 5 2 2 5 5 2 1 2 1 ...\n",
      " $ Working_condition                   : Factor w/ 7 levels \"Another situation\",..: 7 7 7 7 7 1 1 7 7 7 ...\n",
      " $ Nationality                         : Factor w/ 13 levels \" ARGENTINA\",\" Chilena.\",..: 9 9 9 9 9 9 9 9 9 9 ...\n",
      " $ Country                             : Factor w/ 1 level \" Spain\": 1 1 1 1 1 1 1 1 1 1 ...\n",
      " $ Home_sitatuion                      : Factor w/ 7 levels \" Another situation\",..: 5 4 7 6 6 5 4 6 5 6 ...\n",
      " $ Number_of_persons_living_with       : int  2 3 7 7 4 2 3 3 2 3 ...\n",
      " $ Child_dependent_people              : Factor w/ 2 levels \"No\",\"Yes\": 1 1 1 2 2 1 1 2 1 2 ...\n",
      " $ Working_condition.1                 : Factor w/ 5 levels \" I'm in temporary unemployment\",..: 5 5 5 5 5 3 5 5 5 5 ...\n",
      " $ Days_leaving_home_per_week          : int  0 0 1 0 0 1 0 0 0 2 ...\n",
      " $ Reasons_to_go_out                   : Factor w/ 7 levels \" GO SHOPPING\",..: 3 3 1 3 3 5 3 3 3 7 ...\n",
      " $ Time_out_each_week                  : int  0 0 30 0 0 30 0 0 0 5 ...\n",
      " $ COVID19_Positive                    : Factor w/ 3 levels \" DOUBTS\",\" NO\",..: 2 2 2 2 1 2 2 2 2 2 ...\n",
      " $ COVID19_Positive_Home               : Factor w/ 3 levels \" NO\",\" Others\",..: 1 1 1 1 2 1 1 1 1 1 ...\n",
      " $ COVID19_Positive_people_nearby      : Factor w/ 1 level \"No\": 1 1 1 1 1 1 1 1 1 1 ...\n",
      " $ GHQ_TOTAL_PRE                       : int  20 11 6 17 21 12 19 18 12 13 ...\n",
      " $ SWL_TOTAL_PRE                       : int  20 19 21 19 12 22 21 20 21 14 ...\n",
      " $ PMS_TOTAL_PRE                       : int  6 14 14 13 9 9 12 6 11 15 ...\n",
      " $ POSITIVE_AFFECT_PRE                 : int  14 23 23 13 13 23 20 17 19 18 ...\n",
      " $ NEGATIVE_AFFECT_PRE                 : int  19 14 10 23 23 15 19 25 19 21 ...\n",
      " $ Woking_Condition_Post               : Factor w/ 7 levels \"Another situation\",..: 5 7 7 7 7 1 1 7 7 7 ...\n",
      " $ Days_leaving_home_per_week_POST     : int  0 0 0 0 0 0 0 0 0 0 ...\n",
      " $ Time_out_each_week_POST             : int  0 0 0 0 0 0 0 0 0 0 ...\n",
      " $ COVID19_Positive_POST               : Factor w/ 3 levels \"DOUBTS\",\"NO\",..: 2 2 2 2 1 3 2 2 2 1 ...\n",
      " $ COVID19_Positive_home_POST          : Factor w/ 3 levels \" NO\",\" Others\",..: 1 1 1 1 2 2 1 1 1 1 ...\n",
      " $ COVID_19_Positive_people.nearby_POST: Factor w/ 2 levels \"No\",\"Yes\": 1 2 2 2 2 2 1 2 2 2 ...\n",
      " $ GHQ_TOTAL_post                      : int  19 12 11 11 13 9 22 17 19 16 ...\n",
      " $ SWL_TOTAL_post                      : int  20 19 22 20 10 21 18 20 18 18 ...\n",
      " $ PMS_TOTAL_post                      : int  6 12 14 15 11 10 11 7 13 14 ...\n",
      " $ Positive_affect_POST                : int  17 24 26 21 17 24 17 17 20 20 ...\n",
      " $ Negative_affect_POST                : int  19 17 10 14 17 13 15 25 20 18 ...\n",
      " $ POST_PGI._TOTAL                     : int  12 51 13 52 13 29 24 3 5 27 ...\n",
      " $ Fortitude_Strength_PRE              : num  5.5 7.5 6.83 8.33 6.67 ...\n",
      " $ Fortitude._Strength_POST            : num  7 3.5 5.5 1 5.67 ...\n",
      " $ Goodness_Strength_PRE               : num  6.8 8.6 7.8 8.4 8.4 7.8 7.4 6.2 7.4 8 ...\n",
      " $ Goodness_Strength_POST              : num  6.4 5 7.6 2.2 5.8 8.4 8.2 7 7 7 ...\n",
      " $ Intellectual_Strength_PRE           : num  5.33 6 7.83 7.17 7 ...\n",
      " $ Intellectual_Strength_POST          : num  7.33 5.33 7.83 1.33 5.67 ...\n",
      " $ Restraint_Strength_PRE              : num  7.25 9 5.5 7.25 6.25 7 6.25 4.5 7.5 5.25 ...\n",
      " $ Restraint_Strength_POST             : num  6.5 3.75 6.25 1.5 6 6.5 5 5.75 4.75 5.5 ...\n",
      " $ Interpersonal_Strength_PRE          : num  6.33 9 8 9 7.33 ...\n",
      " $ Interpersonal_Strength_POST         : num  7 4.67 7.67 2.33 6.67 ...\n"
     ]
    }
   ],
   "source": [
    "str(covid)"
   ]
  },
  {
   "cell_type": "code",
   "execution_count": 11,
   "metadata": {
    "scrolled": true
   },
   "outputs": [
    {
     "data": {
      "text/plain": [
       "             Df Sum Sq Mean Sq F value Pr(>F)  \n",
       "Gender        1    196  195.91   6.189 0.0133 *\n",
       "Residuals   346  10952   31.65                 \n",
       "---\n",
       "Signif. codes:  0 '***' 0.001 '**' 0.01 '*' 0.05 '.' 0.1 ' ' 1"
      ]
     },
     "metadata": {},
     "output_type": "display_data"
    }
   ],
   "source": [
    "summary(aov(GHQ_TOTAL_PRE~Gender))"
   ]
  },
  {
   "cell_type": "code",
   "execution_count": 12,
   "metadata": {},
   "outputs": [
    {
     "data": {
      "text/plain": [
       "                   Df Sum Sq Mean Sq F value Pr(>F)\n",
       "Educational_Level   4    178   44.49   1.391  0.237\n",
       "Residuals         343  10970   31.98               "
      ]
     },
     "metadata": {},
     "output_type": "display_data"
    }
   ],
   "source": [
    "summary(aov(GHQ_TOTAL_PRE~Educational_Level))"
   ]
  },
  {
   "cell_type": "code",
   "execution_count": 14,
   "metadata": {},
   "outputs": [
    {
     "data": {
      "text/plain": [
       "                Df Sum Sq Mean Sq F value Pr(>F)\n",
       "Home_sitatuion   6    233   38.81   1.213  0.299\n",
       "Residuals      341  10915   32.01               "
      ]
     },
     "metadata": {},
     "output_type": "display_data"
    }
   ],
   "source": [
    "summary(aov(GHQ_TOTAL_PRE~Home_sitatuion))"
   ]
  },
  {
   "cell_type": "code",
   "execution_count": 17,
   "metadata": {},
   "outputs": [
    {
     "data": {
      "text/plain": [
       "                        Df Sum Sq Mean Sq F value Pr(>F)\n",
       "Child_dependent_people   1     10   10.43   0.324   0.57\n",
       "Residuals              346  11137   32.19               "
      ]
     },
     "metadata": {},
     "output_type": "display_data"
    }
   ],
   "source": [
    "summary(aov(GHQ_TOTAL_PRE~Child_dependent_people))"
   ]
  },
  {
   "cell_type": "code",
   "execution_count": 18,
   "metadata": {},
   "outputs": [
    {
     "data": {
      "text/plain": [
       "                     Df Sum Sq Mean Sq F value Pr(>F)\n",
       "Working_condition.1   4     57   14.30   0.442  0.778\n",
       "Residuals           343  11090   32.33               "
      ]
     },
     "metadata": {},
     "output_type": "display_data"
    }
   ],
   "source": [
    "summary(aov(GHQ_TOTAL_PRE~Working_condition.1))"
   ]
  },
  {
   "cell_type": "code",
   "execution_count": 19,
   "metadata": {},
   "outputs": [
    {
     "data": {
      "text/plain": [
       "             Df Sum Sq Mean Sq F value Pr(>F)\n",
       "Nationality  12    237   19.78   0.607  0.836\n",
       "Residuals   335  10910   32.57               "
      ]
     },
     "metadata": {},
     "output_type": "display_data"
    }
   ],
   "source": [
    "summary(aov(GHQ_TOTAL_PRE~Nationality))"
   ]
  },
  {
   "cell_type": "code",
   "execution_count": 21,
   "metadata": {},
   "outputs": [
    {
     "data": {
      "text/plain": [
       "  Tukey multiple comparisons of means\n",
       "    95% family-wise confidence level\n",
       "\n",
       "Fit: aov(formula = GHQ_TOTAL_PRE ~ COVID19_Positive)\n",
       "\n",
       "$COVID19_Positive\n",
       "                   diff        lwr       upr     p adj\n",
       " NO- DOUBTS  -3.0930778  -5.119125 -1.067031 0.0010859\n",
       " YES- DOUBTS -2.4421769 -10.255339  5.370985 0.7424080\n",
       " YES- NO      0.6509009  -6.971871  8.273673 0.9779764\n"
      ]
     },
     "metadata": {},
     "output_type": "display_data"
    }
   ],
   "source": [
    "TukeyHSD(aov(GHQ_TOTAL_PRE~COVID19_Positive))"
   ]
  },
  {
   "cell_type": "code",
   "execution_count": 22,
   "metadata": {
    "scrolled": true
   },
   "outputs": [
    {
     "data": {
      "text/html": [
       "<ol class=list-inline>\n",
       "\t<li>'Gender'</li>\n",
       "\t<li>'Age'</li>\n",
       "\t<li>'Income'</li>\n",
       "\t<li>'Educational_Level'</li>\n",
       "\t<li>'Working_condition'</li>\n",
       "\t<li>'Nationality'</li>\n",
       "\t<li>'Country'</li>\n",
       "\t<li>'Home_sitatuion'</li>\n",
       "\t<li>'Number_of_persons_living_with'</li>\n",
       "\t<li>'Child_dependent_people'</li>\n",
       "\t<li>'Working_condition.1'</li>\n",
       "\t<li>'Days_leaving_home_per_week'</li>\n",
       "\t<li>'Reasons_to_go_out'</li>\n",
       "\t<li>'Time_out_each_week'</li>\n",
       "\t<li>'COVID19_Positive'</li>\n",
       "\t<li>'COVID19_Positive_Home'</li>\n",
       "\t<li>'COVID19_Positive_people_nearby'</li>\n",
       "\t<li>'GHQ_TOTAL_PRE'</li>\n",
       "\t<li>'SWL_TOTAL_PRE'</li>\n",
       "\t<li>'PMS_TOTAL_PRE'</li>\n",
       "\t<li>'POSITIVE_AFFECT_PRE'</li>\n",
       "\t<li>'NEGATIVE_AFFECT_PRE'</li>\n",
       "\t<li>'Woking_Condition_Post'</li>\n",
       "\t<li>'Days_leaving_home_per_week_POST'</li>\n",
       "\t<li>'Time_out_each_week_POST'</li>\n",
       "\t<li>'COVID19_Positive_POST'</li>\n",
       "\t<li>'COVID19_Positive_home_POST'</li>\n",
       "\t<li>'COVID_19_Positive_people.nearby_POST'</li>\n",
       "\t<li>'GHQ_TOTAL_post'</li>\n",
       "\t<li>'SWL_TOTAL_post'</li>\n",
       "\t<li>'PMS_TOTAL_post'</li>\n",
       "\t<li>'Positive_affect_POST'</li>\n",
       "\t<li>'Negative_affect_POST'</li>\n",
       "\t<li>'POST_PGI._TOTAL'</li>\n",
       "\t<li>'Fortitude_Strength_PRE'</li>\n",
       "\t<li>'Fortitude._Strength_POST'</li>\n",
       "\t<li>'Goodness_Strength_PRE'</li>\n",
       "\t<li>'Goodness_Strength_POST'</li>\n",
       "\t<li>'Intellectual_Strength_PRE'</li>\n",
       "\t<li>'Intellectual_Strength_POST'</li>\n",
       "\t<li>'Restraint_Strength_PRE'</li>\n",
       "\t<li>'Restraint_Strength_POST'</li>\n",
       "\t<li>'Interpersonal_Strength_PRE'</li>\n",
       "\t<li>'Interpersonal_Strength_POST'</li>\n",
       "</ol>\n"
      ],
      "text/latex": [
       "\\begin{enumerate*}\n",
       "\\item 'Gender'\n",
       "\\item 'Age'\n",
       "\\item 'Income'\n",
       "\\item 'Educational\\_Level'\n",
       "\\item 'Working\\_condition'\n",
       "\\item 'Nationality'\n",
       "\\item 'Country'\n",
       "\\item 'Home\\_sitatuion'\n",
       "\\item 'Number\\_of\\_persons\\_living\\_with'\n",
       "\\item 'Child\\_dependent\\_people'\n",
       "\\item 'Working\\_condition.1'\n",
       "\\item 'Days\\_leaving\\_home\\_per\\_week'\n",
       "\\item 'Reasons\\_to\\_go\\_out'\n",
       "\\item 'Time\\_out\\_each\\_week'\n",
       "\\item 'COVID19\\_Positive'\n",
       "\\item 'COVID19\\_Positive\\_Home'\n",
       "\\item 'COVID19\\_Positive\\_people\\_nearby'\n",
       "\\item 'GHQ\\_TOTAL\\_PRE'\n",
       "\\item 'SWL\\_TOTAL\\_PRE'\n",
       "\\item 'PMS\\_TOTAL\\_PRE'\n",
       "\\item 'POSITIVE\\_AFFECT\\_PRE'\n",
       "\\item 'NEGATIVE\\_AFFECT\\_PRE'\n",
       "\\item 'Woking\\_Condition\\_Post'\n",
       "\\item 'Days\\_leaving\\_home\\_per\\_week\\_POST'\n",
       "\\item 'Time\\_out\\_each\\_week\\_POST'\n",
       "\\item 'COVID19\\_Positive\\_POST'\n",
       "\\item 'COVID19\\_Positive\\_home\\_POST'\n",
       "\\item 'COVID\\_19\\_Positive\\_people.nearby\\_POST'\n",
       "\\item 'GHQ\\_TOTAL\\_post'\n",
       "\\item 'SWL\\_TOTAL\\_post'\n",
       "\\item 'PMS\\_TOTAL\\_post'\n",
       "\\item 'Positive\\_affect\\_POST'\n",
       "\\item 'Negative\\_affect\\_POST'\n",
       "\\item 'POST\\_PGI.\\_TOTAL'\n",
       "\\item 'Fortitude\\_Strength\\_PRE'\n",
       "\\item 'Fortitude.\\_Strength\\_POST'\n",
       "\\item 'Goodness\\_Strength\\_PRE'\n",
       "\\item 'Goodness\\_Strength\\_POST'\n",
       "\\item 'Intellectual\\_Strength\\_PRE'\n",
       "\\item 'Intellectual\\_Strength\\_POST'\n",
       "\\item 'Restraint\\_Strength\\_PRE'\n",
       "\\item 'Restraint\\_Strength\\_POST'\n",
       "\\item 'Interpersonal\\_Strength\\_PRE'\n",
       "\\item 'Interpersonal\\_Strength\\_POST'\n",
       "\\end{enumerate*}\n"
      ],
      "text/markdown": [
       "1. 'Gender'\n",
       "2. 'Age'\n",
       "3. 'Income'\n",
       "4. 'Educational_Level'\n",
       "5. 'Working_condition'\n",
       "6. 'Nationality'\n",
       "7. 'Country'\n",
       "8. 'Home_sitatuion'\n",
       "9. 'Number_of_persons_living_with'\n",
       "10. 'Child_dependent_people'\n",
       "11. 'Working_condition.1'\n",
       "12. 'Days_leaving_home_per_week'\n",
       "13. 'Reasons_to_go_out'\n",
       "14. 'Time_out_each_week'\n",
       "15. 'COVID19_Positive'\n",
       "16. 'COVID19_Positive_Home'\n",
       "17. 'COVID19_Positive_people_nearby'\n",
       "18. 'GHQ_TOTAL_PRE'\n",
       "19. 'SWL_TOTAL_PRE'\n",
       "20. 'PMS_TOTAL_PRE'\n",
       "21. 'POSITIVE_AFFECT_PRE'\n",
       "22. 'NEGATIVE_AFFECT_PRE'\n",
       "23. 'Woking_Condition_Post'\n",
       "24. 'Days_leaving_home_per_week_POST'\n",
       "25. 'Time_out_each_week_POST'\n",
       "26. 'COVID19_Positive_POST'\n",
       "27. 'COVID19_Positive_home_POST'\n",
       "28. 'COVID_19_Positive_people.nearby_POST'\n",
       "29. 'GHQ_TOTAL_post'\n",
       "30. 'SWL_TOTAL_post'\n",
       "31. 'PMS_TOTAL_post'\n",
       "32. 'Positive_affect_POST'\n",
       "33. 'Negative_affect_POST'\n",
       "34. 'POST_PGI._TOTAL'\n",
       "35. 'Fortitude_Strength_PRE'\n",
       "36. 'Fortitude._Strength_POST'\n",
       "37. 'Goodness_Strength_PRE'\n",
       "38. 'Goodness_Strength_POST'\n",
       "39. 'Intellectual_Strength_PRE'\n",
       "40. 'Intellectual_Strength_POST'\n",
       "41. 'Restraint_Strength_PRE'\n",
       "42. 'Restraint_Strength_POST'\n",
       "43. 'Interpersonal_Strength_PRE'\n",
       "44. 'Interpersonal_Strength_POST'\n",
       "\n",
       "\n"
      ],
      "text/plain": [
       " [1] \"Gender\"                              \n",
       " [2] \"Age\"                                 \n",
       " [3] \"Income\"                              \n",
       " [4] \"Educational_Level\"                   \n",
       " [5] \"Working_condition\"                   \n",
       " [6] \"Nationality\"                         \n",
       " [7] \"Country\"                             \n",
       " [8] \"Home_sitatuion\"                      \n",
       " [9] \"Number_of_persons_living_with\"       \n",
       "[10] \"Child_dependent_people\"              \n",
       "[11] \"Working_condition.1\"                 \n",
       "[12] \"Days_leaving_home_per_week\"          \n",
       "[13] \"Reasons_to_go_out\"                   \n",
       "[14] \"Time_out_each_week\"                  \n",
       "[15] \"COVID19_Positive\"                    \n",
       "[16] \"COVID19_Positive_Home\"               \n",
       "[17] \"COVID19_Positive_people_nearby\"      \n",
       "[18] \"GHQ_TOTAL_PRE\"                       \n",
       "[19] \"SWL_TOTAL_PRE\"                       \n",
       "[20] \"PMS_TOTAL_PRE\"                       \n",
       "[21] \"POSITIVE_AFFECT_PRE\"                 \n",
       "[22] \"NEGATIVE_AFFECT_PRE\"                 \n",
       "[23] \"Woking_Condition_Post\"               \n",
       "[24] \"Days_leaving_home_per_week_POST\"     \n",
       "[25] \"Time_out_each_week_POST\"             \n",
       "[26] \"COVID19_Positive_POST\"               \n",
       "[27] \"COVID19_Positive_home_POST\"          \n",
       "[28] \"COVID_19_Positive_people.nearby_POST\"\n",
       "[29] \"GHQ_TOTAL_post\"                      \n",
       "[30] \"SWL_TOTAL_post\"                      \n",
       "[31] \"PMS_TOTAL_post\"                      \n",
       "[32] \"Positive_affect_POST\"                \n",
       "[33] \"Negative_affect_POST\"                \n",
       "[34] \"POST_PGI._TOTAL\"                     \n",
       "[35] \"Fortitude_Strength_PRE\"              \n",
       "[36] \"Fortitude._Strength_POST\"            \n",
       "[37] \"Goodness_Strength_PRE\"               \n",
       "[38] \"Goodness_Strength_POST\"              \n",
       "[39] \"Intellectual_Strength_PRE\"           \n",
       "[40] \"Intellectual_Strength_POST\"          \n",
       "[41] \"Restraint_Strength_PRE\"              \n",
       "[42] \"Restraint_Strength_POST\"             \n",
       "[43] \"Interpersonal_Strength_PRE\"          \n",
       "[44] \"Interpersonal_Strength_POST\"         "
      ]
     },
     "metadata": {},
     "output_type": "display_data"
    }
   ],
   "source": [
    "colnames(covid)"
   ]
  },
  {
   "cell_type": "code",
   "execution_count": 128,
   "metadata": {},
   "outputs": [],
   "source": [
    "ghq <- pivot_longer(covid,cols=c('GHQ_TOTAL_PRE', 'GHQ_TOTAL_post'), \n",
    "                         names_to=\"Time\", values_to=\"GHQ_Total\")"
   ]
  },
  {
   "cell_type": "code",
   "execution_count": 129,
   "metadata": {
    "scrolled": true
   },
   "outputs": [
    {
     "data": {
      "text/html": [
       "<table>\n",
       "<thead><tr><th scope=col>Gender</th><th scope=col>Age</th><th scope=col>Income</th><th scope=col>Educational_Level</th><th scope=col>Working_condition</th><th scope=col>Nationality</th><th scope=col>Country</th><th scope=col>Home_sitatuion</th><th scope=col>Number_of_persons_living_with</th><th scope=col>Child_dependent_people</th><th scope=col>...</th><th scope=col>Goodness_Strength_PRE</th><th scope=col>Goodness_Strength_POST</th><th scope=col>Intellectual_Strength_PRE</th><th scope=col>Intellectual_Strength_POST</th><th scope=col>Restraint_Strength_PRE</th><th scope=col>Restraint_Strength_POST</th><th scope=col>Interpersonal_Strength_PRE</th><th scope=col>Interpersonal_Strength_POST</th><th scope=col>Time</th><th scope=col>GHQ_Total</th></tr></thead>\n",
       "<tbody>\n",
       "\t<tr><td>Female                                   </td><td>42                                       </td><td>8                                        </td><td>Master's Studies                         </td><td>Working                                  </td><td> SPANISH                                 </td><td> Spain                                   </td><td> I live with my partner                  </td><td>2                                        </td><td>No                                       </td><td>...                                      </td><td>6.8                                      </td><td>6.4                                      </td><td>5.333333                                 </td><td>7.333333                                 </td><td>7.25                                     </td><td>6.50                                     </td><td>6.333333                                 </td><td>7.000000                                 </td><td>GHQ_TOTAL_PRE                            </td><td>20                                       </td></tr>\n",
       "\t<tr><td>Female                                   </td><td>42                                       </td><td>8                                        </td><td>Master's Studies                         </td><td>Working                                  </td><td> SPANISH                                 </td><td> Spain                                   </td><td> I live with my partner                  </td><td>2                                        </td><td>No                                       </td><td>...                                      </td><td>6.8                                      </td><td>6.4                                      </td><td>5.333333                                 </td><td>7.333333                                 </td><td>7.25                                     </td><td>6.50                                     </td><td>6.333333                                 </td><td>7.000000                                 </td><td>GHQ_TOTAL_post                           </td><td>19                                       </td></tr>\n",
       "\t<tr><td>Female                                   </td><td>35                                       </td><td>6                                        </td><td>Superior (Diploma / Bachelor / Degree)   </td><td>Working                                  </td><td> SPANISH                                 </td><td> Spain                                   </td><td> I live with my parents / father / mother</td><td>3                                        </td><td>No                                       </td><td>...                                      </td><td>8.6                                      </td><td>5.0                                      </td><td>6.000000                                 </td><td>5.333333                                 </td><td>9.00                                     </td><td>3.75                                     </td><td>9.000000                                 </td><td>4.666667                                 </td><td>GHQ_TOTAL_PRE                            </td><td>11                                       </td></tr>\n",
       "\t<tr><td>Female                                   </td><td>35                                       </td><td>6                                        </td><td>Superior (Diploma / Bachelor / Degree)   </td><td>Working                                  </td><td> SPANISH                                 </td><td> Spain                                   </td><td> I live with my parents / father / mother</td><td>3                                        </td><td>No                                       </td><td>...                                      </td><td>8.6                                      </td><td>5.0                                      </td><td>6.000000                                 </td><td>5.333333                                 </td><td>9.00                                     </td><td>3.75                                     </td><td>9.000000                                 </td><td>4.666667                                 </td><td>GHQ_TOTAL_post                           </td><td>12                                       </td></tr>\n",
       "\t<tr><td>Female                                   </td><td>28                                       </td><td>8                                        </td><td>Master's Studies                         </td><td>Working                                  </td><td> SPANISH                                 </td><td> Spain                                   </td><td> I share flat                            </td><td>7                                        </td><td>No                                       </td><td>...                                      </td><td>7.8                                      </td><td>7.6                                      </td><td>7.833333                                 </td><td>7.833333                                 </td><td>5.50                                     </td><td>6.25                                     </td><td>8.000000                                 </td><td>7.666667                                 </td><td>GHQ_TOTAL_PRE                            </td><td> 6                                       </td></tr>\n",
       "\t<tr><td>Female                                   </td><td>28                                       </td><td>8                                        </td><td>Master's Studies                         </td><td>Working                                  </td><td> SPANISH                                 </td><td> Spain                                   </td><td> I share flat                            </td><td>7                                        </td><td>No                                       </td><td>...                                      </td><td>7.8                                      </td><td>7.6                                      </td><td>7.833333                                 </td><td>7.833333                                 </td><td>5.50                                     </td><td>6.25                                     </td><td>8.000000                                 </td><td>7.666667                                 </td><td>GHQ_TOTAL_post                           </td><td>11                                       </td></tr>\n",
       "</tbody>\n",
       "</table>\n"
      ],
      "text/latex": [
       "\\begin{tabular}{r|llllllllllllllllllllllllllllllllllllllllllll}\n",
       " Gender & Age & Income & Educational\\_Level & Working\\_condition & Nationality & Country & Home\\_sitatuion & Number\\_of\\_persons\\_living\\_with & Child\\_dependent\\_people & ... & Goodness\\_Strength\\_PRE & Goodness\\_Strength\\_POST & Intellectual\\_Strength\\_PRE & Intellectual\\_Strength\\_POST & Restraint\\_Strength\\_PRE & Restraint\\_Strength\\_POST & Interpersonal\\_Strength\\_PRE & Interpersonal\\_Strength\\_POST & Time & GHQ\\_Total\\\\\n",
       "\\hline\n",
       "\t Female                                    & 42                                        & 8                                         & Master's Studies                          & Working                                   &  SPANISH                                  &  Spain                                    &  I live with my partner                   & 2                                         & No                                        & ...                                       & 6.8                                       & 6.4                                       & 5.333333                                  & 7.333333                                  & 7.25                                      & 6.50                                      & 6.333333                                  & 7.000000                                  & GHQ\\_TOTAL\\_PRE                         & 20                                       \\\\\n",
       "\t Female                                    & 42                                        & 8                                         & Master's Studies                          & Working                                   &  SPANISH                                  &  Spain                                    &  I live with my partner                   & 2                                         & No                                        & ...                                       & 6.8                                       & 6.4                                       & 5.333333                                  & 7.333333                                  & 7.25                                      & 6.50                                      & 6.333333                                  & 7.000000                                  & GHQ\\_TOTAL\\_post                        & 19                                       \\\\\n",
       "\t Female                                    & 35                                        & 6                                         & Superior (Diploma / Bachelor / Degree)    & Working                                   &  SPANISH                                  &  Spain                                    &  I live with my parents / father / mother & 3                                         & No                                        & ...                                       & 8.6                                       & 5.0                                       & 6.000000                                  & 5.333333                                  & 9.00                                      & 3.75                                      & 9.000000                                  & 4.666667                                  & GHQ\\_TOTAL\\_PRE                         & 11                                       \\\\\n",
       "\t Female                                    & 35                                        & 6                                         & Superior (Diploma / Bachelor / Degree)    & Working                                   &  SPANISH                                  &  Spain                                    &  I live with my parents / father / mother & 3                                         & No                                        & ...                                       & 8.6                                       & 5.0                                       & 6.000000                                  & 5.333333                                  & 9.00                                      & 3.75                                      & 9.000000                                  & 4.666667                                  & GHQ\\_TOTAL\\_post                        & 12                                       \\\\\n",
       "\t Female                                    & 28                                        & 8                                         & Master's Studies                          & Working                                   &  SPANISH                                  &  Spain                                    &  I share flat                             & 7                                         & No                                        & ...                                       & 7.8                                       & 7.6                                       & 7.833333                                  & 7.833333                                  & 5.50                                      & 6.25                                      & 8.000000                                  & 7.666667                                  & GHQ\\_TOTAL\\_PRE                         &  6                                       \\\\\n",
       "\t Female                                    & 28                                        & 8                                         & Master's Studies                          & Working                                   &  SPANISH                                  &  Spain                                    &  I share flat                             & 7                                         & No                                        & ...                                       & 7.8                                       & 7.6                                       & 7.833333                                  & 7.833333                                  & 5.50                                      & 6.25                                      & 8.000000                                  & 7.666667                                  & GHQ\\_TOTAL\\_post                        & 11                                       \\\\\n",
       "\\end{tabular}\n"
      ],
      "text/markdown": [
       "\n",
       "| Gender | Age | Income | Educational_Level | Working_condition | Nationality | Country | Home_sitatuion | Number_of_persons_living_with | Child_dependent_people | ... | Goodness_Strength_PRE | Goodness_Strength_POST | Intellectual_Strength_PRE | Intellectual_Strength_POST | Restraint_Strength_PRE | Restraint_Strength_POST | Interpersonal_Strength_PRE | Interpersonal_Strength_POST | Time | GHQ_Total |\n",
       "|---|---|---|---|---|---|---|---|---|---|---|---|---|---|---|---|---|---|---|---|---|\n",
       "| Female                                    | 42                                        | 8                                         | Master's Studies                          | Working                                   |  SPANISH                                  |  Spain                                    |  I live with my partner                   | 2                                         | No                                        | ...                                       | 6.8                                       | 6.4                                       | 5.333333                                  | 7.333333                                  | 7.25                                      | 6.50                                      | 6.333333                                  | 7.000000                                  | GHQ_TOTAL_PRE                             | 20                                        |\n",
       "| Female                                    | 42                                        | 8                                         | Master's Studies                          | Working                                   |  SPANISH                                  |  Spain                                    |  I live with my partner                   | 2                                         | No                                        | ...                                       | 6.8                                       | 6.4                                       | 5.333333                                  | 7.333333                                  | 7.25                                      | 6.50                                      | 6.333333                                  | 7.000000                                  | GHQ_TOTAL_post                            | 19                                        |\n",
       "| Female                                    | 35                                        | 6                                         | Superior (Diploma / Bachelor / Degree)    | Working                                   |  SPANISH                                  |  Spain                                    |  I live with my parents / father / mother | 3                                         | No                                        | ...                                       | 8.6                                       | 5.0                                       | 6.000000                                  | 5.333333                                  | 9.00                                      | 3.75                                      | 9.000000                                  | 4.666667                                  | GHQ_TOTAL_PRE                             | 11                                        |\n",
       "| Female                                    | 35                                        | 6                                         | Superior (Diploma / Bachelor / Degree)    | Working                                   |  SPANISH                                  |  Spain                                    |  I live with my parents / father / mother | 3                                         | No                                        | ...                                       | 8.6                                       | 5.0                                       | 6.000000                                  | 5.333333                                  | 9.00                                      | 3.75                                      | 9.000000                                  | 4.666667                                  | GHQ_TOTAL_post                            | 12                                        |\n",
       "| Female                                    | 28                                        | 8                                         | Master's Studies                          | Working                                   |  SPANISH                                  |  Spain                                    |  I share flat                             | 7                                         | No                                        | ...                                       | 7.8                                       | 7.6                                       | 7.833333                                  | 7.833333                                  | 5.50                                      | 6.25                                      | 8.000000                                  | 7.666667                                  | GHQ_TOTAL_PRE                             |  6                                        |\n",
       "| Female                                    | 28                                        | 8                                         | Master's Studies                          | Working                                   |  SPANISH                                  |  Spain                                    |  I share flat                             | 7                                         | No                                        | ...                                       | 7.8                                       | 7.6                                       | 7.833333                                  | 7.833333                                  | 5.50                                      | 6.25                                      | 8.000000                                  | 7.666667                                  | GHQ_TOTAL_post                            | 11                                        |\n",
       "\n"
      ],
      "text/plain": [
       "  Gender Age Income Educational_Level                      Working_condition\n",
       "1 Female 42  8      Master's Studies                       Working          \n",
       "2 Female 42  8      Master's Studies                       Working          \n",
       "3 Female 35  6      Superior (Diploma / Bachelor / Degree) Working          \n",
       "4 Female 35  6      Superior (Diploma / Bachelor / Degree) Working          \n",
       "5 Female 28  8      Master's Studies                       Working          \n",
       "6 Female 28  8      Master's Studies                       Working          \n",
       "  Nationality Country Home_sitatuion                           \n",
       "1  SPANISH     Spain   I live with my partner                  \n",
       "2  SPANISH     Spain   I live with my partner                  \n",
       "3  SPANISH     Spain   I live with my parents / father / mother\n",
       "4  SPANISH     Spain   I live with my parents / father / mother\n",
       "5  SPANISH     Spain   I share flat                            \n",
       "6  SPANISH     Spain   I share flat                            \n",
       "  Number_of_persons_living_with Child_dependent_people ...\n",
       "1 2                             No                     ...\n",
       "2 2                             No                     ...\n",
       "3 3                             No                     ...\n",
       "4 3                             No                     ...\n",
       "5 7                             No                     ...\n",
       "6 7                             No                     ...\n",
       "  Goodness_Strength_PRE Goodness_Strength_POST Intellectual_Strength_PRE\n",
       "1 6.8                   6.4                    5.333333                 \n",
       "2 6.8                   6.4                    5.333333                 \n",
       "3 8.6                   5.0                    6.000000                 \n",
       "4 8.6                   5.0                    6.000000                 \n",
       "5 7.8                   7.6                    7.833333                 \n",
       "6 7.8                   7.6                    7.833333                 \n",
       "  Intellectual_Strength_POST Restraint_Strength_PRE Restraint_Strength_POST\n",
       "1 7.333333                   7.25                   6.50                   \n",
       "2 7.333333                   7.25                   6.50                   \n",
       "3 5.333333                   9.00                   3.75                   \n",
       "4 5.333333                   9.00                   3.75                   \n",
       "5 7.833333                   5.50                   6.25                   \n",
       "6 7.833333                   5.50                   6.25                   \n",
       "  Interpersonal_Strength_PRE Interpersonal_Strength_POST Time          \n",
       "1 6.333333                   7.000000                    GHQ_TOTAL_PRE \n",
       "2 6.333333                   7.000000                    GHQ_TOTAL_post\n",
       "3 9.000000                   4.666667                    GHQ_TOTAL_PRE \n",
       "4 9.000000                   4.666667                    GHQ_TOTAL_post\n",
       "5 8.000000                   7.666667                    GHQ_TOTAL_PRE \n",
       "6 8.000000                   7.666667                    GHQ_TOTAL_post\n",
       "  GHQ_Total\n",
       "1 20       \n",
       "2 19       \n",
       "3 11       \n",
       "4 12       \n",
       "5  6       \n",
       "6 11       "
      ]
     },
     "metadata": {},
     "output_type": "display_data"
    }
   ],
   "source": [
    "head(ghq)"
   ]
  },
  {
   "cell_type": "code",
   "execution_count": null,
   "metadata": {},
   "outputs": [],
   "source": []
  },
  {
   "cell_type": "code",
   "execution_count": 144,
   "metadata": {},
   "outputs": [
    {
     "data": {
      "image/png": "[encoded data removed]",
      "text/plain": [
       "Plot with title \"Normal Q-Q Plot\""
      ]
     },
     "metadata": {},
     "output_type": "display_data"
    }
   ],
   "source": [
    "qqnorm(sqrt(GHQ_TOTAL_PRE))\n",
    "qqline(sqrt(GHQ_TOTAL_PRE))"
   ]
  },
  {
   "cell_type": "code",
   "execution_count": 131,
   "metadata": {},
   "outputs": [
    {
     "data": {
      "image/png": "[encoded data removed]",
      "text/plain": [
       "plot without title"
      ]
     },
     "metadata": {},
     "output_type": "display_data"
    }
   ],
   "source": [
    "ggqqplot(ghq, \"GHQ_Total\", facet.by = \"Time\")"
   ]
  },
  {
   "cell_type": "code",
   "execution_count": 80,
   "metadata": {},
   "outputs": [],
   "source": [
    "interpersonal <- pivot_longer(covid,cols=c('Interpersonal_Strength_PRE', 'Interpersonal_Strength_POST'), \n",
    "                         names_to=\"Time\",values_to=\"Interpersonal_Strength\")"
   ]
  },
  {
   "cell_type": "code",
   "execution_count": 59,
   "metadata": {},
   "outputs": [
    {
     "name": "stdout",
     "output_type": "stream",
     "text": [
      "package 'magrittr' successfully unpacked and MD5 sums checked\n",
      "\n",
      "The downloaded binary packages are in\n",
      "\tC:\\Users\\khush\\AppData\\Local\\Temp\\Rtmp6bENF2\\downloaded_packages\n"
     ]
    }
   ],
   "source": [
    "install.packages(\"ggpubr\")\n",
    "install.packages(\"magrittr\")"
   ]
  },
  {
   "cell_type": "code",
   "execution_count": 61,
   "metadata": {},
   "outputs": [],
   "source": [
    "library(broom)"
   ]
  },
  {
   "cell_type": "code",
   "execution_count": 62,
   "metadata": {},
   "outputs": [],
   "source": [
    "library(ggpubr)"
   ]
  },
  {
   "cell_type": "code",
   "execution_count": 85,
   "metadata": {
    "scrolled": false
   },
   "outputs": [
    {
     "data": {
      "text/html": [
       "<table>\n",
       "<thead><tr><th scope=col>Gender</th><th scope=col>Age</th><th scope=col>Income</th><th scope=col>Educational_Level</th><th scope=col>Working_condition</th><th scope=col>Nationality</th><th scope=col>Country</th><th scope=col>Home_sitatuion</th><th scope=col>Number_of_persons_living_with</th><th scope=col>Child_dependent_people</th><th scope=col>...</th><th scope=col>Fortitude_Strength_PRE</th><th scope=col>Fortitude._Strength_POST</th><th scope=col>Goodness_Strength_PRE</th><th scope=col>Goodness_Strength_POST</th><th scope=col>Intellectual_Strength_PRE</th><th scope=col>Intellectual_Strength_POST</th><th scope=col>Restraint_Strength_PRE</th><th scope=col>Restraint_Strength_POST</th><th scope=col>Time</th><th scope=col>Interpersonal_Strength</th></tr></thead>\n",
       "<tbody>\n",
       "\t<tr><td>Female                                   </td><td>42                                       </td><td>8                                        </td><td>Master's Studies                         </td><td>Working                                  </td><td> SPANISH                                 </td><td> Spain                                   </td><td> I live with my partner                  </td><td>2                                        </td><td>No                                       </td><td>...                                      </td><td>5.500000                                 </td><td>7.0                                      </td><td>6.8                                      </td><td>6.4                                      </td><td>5.333333                                 </td><td>7.333333                                 </td><td>7.25                                     </td><td>6.50                                     </td><td>Interpersonal_Strength_PRE               </td><td>6.333333                                 </td></tr>\n",
       "\t<tr><td>Female                                   </td><td>42                                       </td><td>8                                        </td><td>Master's Studies                         </td><td>Working                                  </td><td> SPANISH                                 </td><td> Spain                                   </td><td> I live with my partner                  </td><td>2                                        </td><td>No                                       </td><td>...                                      </td><td>5.500000                                 </td><td>7.0                                      </td><td>6.8                                      </td><td>6.4                                      </td><td>5.333333                                 </td><td>7.333333                                 </td><td>7.25                                     </td><td>6.50                                     </td><td>Interpersonal_Strength_POST              </td><td>7.000000                                 </td></tr>\n",
       "\t<tr><td>Female                                   </td><td>35                                       </td><td>6                                        </td><td>Superior (Diploma / Bachelor / Degree)   </td><td>Working                                  </td><td> SPANISH                                 </td><td> Spain                                   </td><td> I live with my parents / father / mother</td><td>3                                        </td><td>No                                       </td><td>...                                      </td><td>7.500000                                 </td><td>3.5                                      </td><td>8.6                                      </td><td>5.0                                      </td><td>6.000000                                 </td><td>5.333333                                 </td><td>9.00                                     </td><td>3.75                                     </td><td>Interpersonal_Strength_PRE               </td><td>9.000000                                 </td></tr>\n",
       "\t<tr><td>Female                                   </td><td>35                                       </td><td>6                                        </td><td>Superior (Diploma / Bachelor / Degree)   </td><td>Working                                  </td><td> SPANISH                                 </td><td> Spain                                   </td><td> I live with my parents / father / mother</td><td>3                                        </td><td>No                                       </td><td>...                                      </td><td>7.500000                                 </td><td>3.5                                      </td><td>8.6                                      </td><td>5.0                                      </td><td>6.000000                                 </td><td>5.333333                                 </td><td>9.00                                     </td><td>3.75                                     </td><td>Interpersonal_Strength_POST              </td><td>4.666667                                 </td></tr>\n",
       "\t<tr><td>Female                                   </td><td>28                                       </td><td>8                                        </td><td>Master's Studies                         </td><td>Working                                  </td><td> SPANISH                                 </td><td> Spain                                   </td><td> I share flat                            </td><td>7                                        </td><td>No                                       </td><td>...                                      </td><td>6.833333                                 </td><td>5.5                                      </td><td>7.8                                      </td><td>7.6                                      </td><td>7.833333                                 </td><td>7.833333                                 </td><td>5.50                                     </td><td>6.25                                     </td><td>Interpersonal_Strength_PRE               </td><td>8.000000                                 </td></tr>\n",
       "\t<tr><td>Female                                   </td><td>28                                       </td><td>8                                        </td><td>Master's Studies                         </td><td>Working                                  </td><td> SPANISH                                 </td><td> Spain                                   </td><td> I share flat                            </td><td>7                                        </td><td>No                                       </td><td>...                                      </td><td>6.833333                                 </td><td>5.5                                      </td><td>7.8                                      </td><td>7.6                                      </td><td>7.833333                                 </td><td>7.833333                                 </td><td>5.50                                     </td><td>6.25                                     </td><td>Interpersonal_Strength_POST              </td><td>7.666667                                 </td></tr>\n",
       "</tbody>\n",
       "</table>\n"
      ],
      "text/latex": [
       "\\begin{tabular}{r|llllllllllllllllllllllllllllllllllllllllllll}\n",
       " Gender & Age & Income & Educational\\_Level & Working\\_condition & Nationality & Country & Home\\_sitatuion & Number\\_of\\_persons\\_living\\_with & Child\\_dependent\\_people & ... & Fortitude\\_Strength\\_PRE & Fortitude.\\_Strength\\_POST & Goodness\\_Strength\\_PRE & Goodness\\_Strength\\_POST & Intellectual\\_Strength\\_PRE & Intellectual\\_Strength\\_POST & Restraint\\_Strength\\_PRE & Restraint\\_Strength\\_POST & Time & Interpersonal\\_Strength\\\\\n",
       "\\hline\n",
       "\t Female                                    & 42                                        & 8                                         & Master's Studies                          & Working                                   &  SPANISH                                  &  Spain                                    &  I live with my partner                   & 2                                         & No                                        & ...                                       & 5.500000                                  & 7.0                                       & 6.8                                       & 6.4                                       & 5.333333                                  & 7.333333                                  & 7.25                                      & 6.50                                      & Interpersonal\\_Strength\\_PRE            & 6.333333                                 \\\\\n",
       "\t Female                                    & 42                                        & 8                                         & Master's Studies                          & Working                                   &  SPANISH                                  &  Spain                                    &  I live with my partner                   & 2                                         & No                                        & ...                                       & 5.500000                                  & 7.0                                       & 6.8                                       & 6.4                                       & 5.333333                                  & 7.333333                                  & 7.25                                      & 6.50                                      & Interpersonal\\_Strength\\_POST           & 7.000000                                 \\\\\n",
       "\t Female                                    & 35                                        & 6                                         & Superior (Diploma / Bachelor / Degree)    & Working                                   &  SPANISH                                  &  Spain                                    &  I live with my parents / father / mother & 3                                         & No                                        & ...                                       & 7.500000                                  & 3.5                                       & 8.6                                       & 5.0                                       & 6.000000                                  & 5.333333                                  & 9.00                                      & 3.75                                      & Interpersonal\\_Strength\\_PRE            & 9.000000                                 \\\\\n",
       "\t Female                                    & 35                                        & 6                                         & Superior (Diploma / Bachelor / Degree)    & Working                                   &  SPANISH                                  &  Spain                                    &  I live with my parents / father / mother & 3                                         & No                                        & ...                                       & 7.500000                                  & 3.5                                       & 8.6                                       & 5.0                                       & 6.000000                                  & 5.333333                                  & 9.00                                      & 3.75                                      & Interpersonal\\_Strength\\_POST           & 4.666667                                 \\\\\n",
       "\t Female                                    & 28                                        & 8                                         & Master's Studies                          & Working                                   &  SPANISH                                  &  Spain                                    &  I share flat                             & 7                                         & No                                        & ...                                       & 6.833333                                  & 5.5                                       & 7.8                                       & 7.6                                       & 7.833333                                  & 7.833333                                  & 5.50                                      & 6.25                                      & Interpersonal\\_Strength\\_PRE            & 8.000000                                 \\\\\n",
       "\t Female                                    & 28                                        & 8                                         & Master's Studies                          & Working                                   &  SPANISH                                  &  Spain                                    &  I share flat                             & 7                                         & No                                        & ...                                       & 6.833333                                  & 5.5                                       & 7.8                                       & 7.6                                       & 7.833333                                  & 7.833333                                  & 5.50                                      & 6.25                                      & Interpersonal\\_Strength\\_POST           & 7.666667                                 \\\\\n",
       "\\end{tabular}\n"
      ],
      "text/markdown": [
       "\n",
       "| Gender | Age | Income | Educational_Level | Working_condition | Nationality | Country | Home_sitatuion | Number_of_persons_living_with | Child_dependent_people | ... | Fortitude_Strength_PRE | Fortitude._Strength_POST | Goodness_Strength_PRE | Goodness_Strength_POST | Intellectual_Strength_PRE | Intellectual_Strength_POST | Restraint_Strength_PRE | Restraint_Strength_POST | Time | Interpersonal_Strength |\n",
       "|---|---|---|---|---|---|---|---|---|---|---|---|---|---|---|---|---|---|---|---|---|\n",
       "| Female                                    | 42                                        | 8                                         | Master's Studies                          | Working                                   |  SPANISH                                  |  Spain                                    |  I live with my partner                   | 2                                         | No                                        | ...                                       | 5.500000                                  | 7.0                                       | 6.8                                       | 6.4                                       | 5.333333                                  | 7.333333                                  | 7.25                                      | 6.50                                      | Interpersonal_Strength_PRE                | 6.333333                                  |\n",
       "| Female                                    | 42                                        | 8                                         | Master's Studies                          | Working                                   |  SPANISH                                  |  Spain                                    |  I live with my partner                   | 2                                         | No                                        | ...                                       | 5.500000                                  | 7.0                                       | 6.8                                       | 6.4                                       | 5.333333                                  | 7.333333                                  | 7.25                                      | 6.50                                      | Interpersonal_Strength_POST               | 7.000000                                  |\n",
       "| Female                                    | 35                                        | 6                                         | Superior (Diploma / Bachelor / Degree)    | Working                                   |  SPANISH                                  |  Spain                                    |  I live with my parents / father / mother | 3                                         | No                                        | ...                                       | 7.500000                                  | 3.5                                       | 8.6                                       | 5.0                                       | 6.000000                                  | 5.333333                                  | 9.00                                      | 3.75                                      | Interpersonal_Strength_PRE                | 9.000000                                  |\n",
       "| Female                                    | 35                                        | 6                                         | Superior (Diploma / Bachelor / Degree)    | Working                                   |  SPANISH                                  |  Spain                                    |  I live with my parents / father / mother | 3                                         | No                                        | ...                                       | 7.500000                                  | 3.5                                       | 8.6                                       | 5.0                                       | 6.000000                                  | 5.333333                                  | 9.00                                      | 3.75                                      | Interpersonal_Strength_POST               | 4.666667                                  |\n",
       "| Female                                    | 28                                        | 8                                         | Master's Studies                          | Working                                   |  SPANISH                                  |  Spain                                    |  I share flat                             | 7                                         | No                                        | ...                                       | 6.833333                                  | 5.5                                       | 7.8                                       | 7.6                                       | 7.833333                                  | 7.833333                                  | 5.50                                      | 6.25                                      | Interpersonal_Strength_PRE                | 8.000000                                  |\n",
       "| Female                                    | 28                                        | 8                                         | Master's Studies                          | Working                                   |  SPANISH                                  |  Spain                                    |  I share flat                             | 7                                         | No                                        | ...                                       | 6.833333                                  | 5.5                                       | 7.8                                       | 7.6                                       | 7.833333                                  | 7.833333                                  | 5.50                                      | 6.25                                      | Interpersonal_Strength_POST               | 7.666667                                  |\n",
       "\n"
      ],
      "text/plain": [
       "  Gender Age Income Educational_Level                      Working_condition\n",
       "1 Female 42  8      Master's Studies                       Working          \n",
       "2 Female 42  8      Master's Studies                       Working          \n",
       "3 Female 35  6      Superior (Diploma / Bachelor / Degree) Working          \n",
       "4 Female 35  6      Superior (Diploma / Bachelor / Degree) Working          \n",
       "5 Female 28  8      Master's Studies                       Working          \n",
       "6 Female 28  8      Master's Studies                       Working          \n",
       "  Nationality Country Home_sitatuion                           \n",
       "1  SPANISH     Spain   I live with my partner                  \n",
       "2  SPANISH     Spain   I live with my partner                  \n",
       "3  SPANISH     Spain   I live with my parents / father / mother\n",
       "4  SPANISH     Spain   I live with my parents / father / mother\n",
       "5  SPANISH     Spain   I share flat                            \n",
       "6  SPANISH     Spain   I share flat                            \n",
       "  Number_of_persons_living_with Child_dependent_people ...\n",
       "1 2                             No                     ...\n",
       "2 2                             No                     ...\n",
       "3 3                             No                     ...\n",
       "4 3                             No                     ...\n",
       "5 7                             No                     ...\n",
       "6 7                             No                     ...\n",
       "  Fortitude_Strength_PRE Fortitude._Strength_POST Goodness_Strength_PRE\n",
       "1 5.500000               7.0                      6.8                  \n",
       "2 5.500000               7.0                      6.8                  \n",
       "3 7.500000               3.5                      8.6                  \n",
       "4 7.500000               3.5                      8.6                  \n",
       "5 6.833333               5.5                      7.8                  \n",
       "6 6.833333               5.5                      7.8                  \n",
       "  Goodness_Strength_POST Intellectual_Strength_PRE Intellectual_Strength_POST\n",
       "1 6.4                    5.333333                  7.333333                  \n",
       "2 6.4                    5.333333                  7.333333                  \n",
       "3 5.0                    6.000000                  5.333333                  \n",
       "4 5.0                    6.000000                  5.333333                  \n",
       "5 7.6                    7.833333                  7.833333                  \n",
       "6 7.6                    7.833333                  7.833333                  \n",
       "  Restraint_Strength_PRE Restraint_Strength_POST Time                       \n",
       "1 7.25                   6.50                    Interpersonal_Strength_PRE \n",
       "2 7.25                   6.50                    Interpersonal_Strength_POST\n",
       "3 9.00                   3.75                    Interpersonal_Strength_PRE \n",
       "4 9.00                   3.75                    Interpersonal_Strength_POST\n",
       "5 5.50                   6.25                    Interpersonal_Strength_PRE \n",
       "6 5.50                   6.25                    Interpersonal_Strength_POST\n",
       "  Interpersonal_Strength\n",
       "1 6.333333              \n",
       "2 7.000000              \n",
       "3 9.000000              \n",
       "4 4.666667              \n",
       "5 8.000000              \n",
       "6 7.666667              "
      ]
     },
     "metadata": {},
     "output_type": "display_data"
    }
   ],
   "source": [
    "head(interpersonal)"
   ]
  },
  {
   "cell_type": "code",
   "execution_count": 83,
   "metadata": {},
   "outputs": [],
   "source": [
    "interpersonal$Time = as.factor(interpersonal$Time)\n",
    "interpersonal$Time <- factor(interpersonal$Time, levels = c(\"Interpersonal_Strength_PRE\", \"Interpersonal_Strength_POST\"))"
   ]
  },
  {
   "cell_type": "code",
   "execution_count": 89,
   "metadata": {
    "collapsed": true
   },
   "outputs": [
    {
     "data": {
      "image/png": "[encoded data removed]",
      "text/plain": [
       "plot without title"
      ]
     },
     "metadata": {},
     "output_type": "display_data"
    }
   ],
   "source": [
    "ggboxplot(interpersonal,x=\"Time\",y=\"Interpersonal_Strength\", add = \"point\")"
   ]
  },
  {
   "cell_type": "code",
   "execution_count": 91,
   "metadata": {
    "collapsed": true
   },
   "outputs": [
    {
     "name": "stdout",
     "output_type": "stream",
     "text": [
      "package 'rstatix' successfully unpacked and MD5 sums checked\n",
      "\n",
      "The downloaded binary packages are in\n",
      "\tC:\\Users\\khush\\AppData\\Local\\Temp\\Rtmp6bENF2\\downloaded_packages\n"
     ]
    }
   ],
   "source": [
    "install.packages('rstatix')"
   ]
  },
  {
   "cell_type": "code",
   "execution_count": 92,
   "metadata": {
    "collapsed": true
   },
   "outputs": [
    {
     "name": "stderr",
     "output_type": "stream",
     "text": [
      "\n",
      "Attaching package: 'rstatix'\n",
      "\n",
      "The following object is masked from 'package:stats':\n",
      "\n",
      "    filter\n",
      "\n"
     ]
    }
   ],
   "source": [
    "library(rstatix)"
   ]
  },
  {
   "cell_type": "code",
   "execution_count": 101,
   "metadata": {
    "scrolled": false
   },
   "outputs": [
    {
     "data": {
      "text/html": [
       "<table>\n",
       "<thead><tr><th scope=col>Time</th><th scope=col>variable</th><th scope=col>statistic</th><th scope=col>p</th></tr></thead>\n",
       "<tbody>\n",
       "\t<tr><td>Interpersonal_Strength_PRE </td><td>Interpersonal_Strength     </td><td>0.9574267                  </td><td>1.652283e-08               </td></tr>\n",
       "\t<tr><td>Interpersonal_Strength_POST</td><td>Interpersonal_Strength     </td><td>0.9498257                  </td><td>1.681368e-09               </td></tr>\n",
       "</tbody>\n",
       "</table>\n"
      ],
      "text/latex": [
       "\\begin{tabular}{r|llll}\n",
       " Time & variable & statistic & p\\\\\n",
       "\\hline\n",
       "\t Interpersonal\\_Strength\\_PRE  & Interpersonal\\_Strength        & 0.9574267                       & 1.652283e-08                   \\\\\n",
       "\t Interpersonal\\_Strength\\_POST & Interpersonal\\_Strength        & 0.9498257                       & 1.681368e-09                   \\\\\n",
       "\\end{tabular}\n"
      ],
      "text/markdown": [
       "\n",
       "| Time | variable | statistic | p |\n",
       "|---|---|---|---|\n",
       "| Interpersonal_Strength_PRE  | Interpersonal_Strength      | 0.9574267                   | 1.652283e-08                |\n",
       "| Interpersonal_Strength_POST | Interpersonal_Strength      | 0.9498257                   | 1.681368e-09                |\n",
       "\n"
      ],
      "text/plain": [
       "  Time                        variable               statistic p           \n",
       "1 Interpersonal_Strength_PRE  Interpersonal_Strength 0.9574267 1.652283e-08\n",
       "2 Interpersonal_Strength_POST Interpersonal_Strength 0.9498257 1.681368e-09"
      ]
     },
     "metadata": {},
     "output_type": "display_data"
    }
   ],
   "source": [
    "interpersonal %>%group_by(Time) %>%\n",
    "  shapiro_test(Interpersonal_Strength)\n",
    "\n",
    "#There were no extreme outliers."
   ]
  },
  {
   "cell_type": "code",
   "execution_count": 127,
   "metadata": {},
   "outputs": [
    {
     "data": {
      "text/plain": [
       "\n",
       "\tShapiro-Wilk normality test\n",
       "\n",
       "data:  (GHQ_TOTAL_post)^1/3\n",
       "W = 0.96189, p-value = 7.101e-08\n"
      ]
     },
     "metadata": {},
     "output_type": "display_data"
    }
   ],
   "source": [
    "shapiro.test((GHQ_TOTAL_post)^)"
   ]
  },
  {
   "cell_type": "code",
   "execution_count": 120,
   "metadata": {
    "scrolled": true
   },
   "outputs": [
    {
     "data": {
      "text/plain": [
       "\n",
       "\tShapiro-Wilk normality test\n",
       "\n",
       "data:  (Intellectual_Strength_POST)^4\n",
       "W = 0.96997, p-value = 1.307e-06\n"
      ]
     },
     "metadata": {},
     "output_type": "display_data"
    }
   ],
   "source": [
    "shapiro.test((Intellectual_Strength_POST)^4)"
   ]
  },
  {
   "cell_type": "code",
   "execution_count": 107,
   "metadata": {
    "scrolled": true
   },
   "outputs": [
    {
     "data": {
      "image/png": "[encoded data removed]",
      "text/plain": [
       "Plot with title \"Normal Q-Q Plot\""
      ]
     },
     "metadata": {},
     "output_type": "display_data"
    }
   ],
   "source": [
    "qqnorm(Intellectual_Strength_POST)\n",
    "qqline(Intellectual_Strength_POST)"
   ]
  },
  {
   "cell_type": "code",
   "execution_count": 100,
   "metadata": {},
   "outputs": [
    {
     "data": {
      "image/png": "[encoded data removed]",
      "text/plain": [
       "plot without title"
      ]
     },
     "metadata": {},
     "output_type": "display_data"
    }
   ],
   "source": [
    "ggqqplot(interpersonal, \"Interpersonal_Strength\", facet.by = \"Time\")"
   ]
  },
  {
   "cell_type": "code",
   "execution_count": null,
   "metadata": {},
   "outputs": [],
   "source": [
    "interpersonal %>%group_by(Time) %>% "
   ]
  },
  {
   "cell_type": "code",
   "execution_count": 84,
   "metadata": {},
   "outputs": [
    {
     "data": {
      "image/png": "[encoded data removed]",
      "text/plain": [
       "plot without title"
      ]
     },
     "metadata": {},
     "output_type": "display_data"
    }
   ],
   "source": [
    "ggboxplot(interpersonal,x=\"Gender\",y=\"Interpersonal_Strength\", fill= 'Time')\n"
   ]
  },
  {
   "cell_type": "code",
   "execution_count": 86,
   "metadata": {},
   "outputs": [
    {
     "data": {
      "image/png": "[encoded data removed]",
      "text/plain": [
       "plot without title"
      ]
     },
     "metadata": {},
     "output_type": "display_data"
    }
   ],
   "source": [
    "ggboxplot(interpersonal,x=\"Educational_Level\",y=\"Interpersonal_Strength\",fill=\"Time\") +\n",
    "theme(axis.text.x = element_text(angle = 30, vjust = 1, hjust = 1))\n"
   ]
  },
  {
   "cell_type": "code",
   "execution_count": null,
   "metadata": {},
   "outputs": [],
   "source": []
  }
 ],
 "metadata": {
  "kernelspec": {
   "display_name": "R",
   "language": "R",
   "name": "ir"
  },
  "language_info": {
   "codemirror_mode": "r",
   "file_extension": ".r",
   "mimetype": "text/x-r-source",
   "name": "R",
   "pygments_lexer": "r",
   "version": "3.6.1"
  }
 },
 "nbformat": 4,
 "nbformat_minor": 5
}
